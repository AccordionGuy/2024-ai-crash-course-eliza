{
 "cells": [
  {
   "cell_type": "markdown",
   "id": "4a30bc5d",
   "metadata": {},
   "source": [
    "# The ELIZA exercise\n",
    "\n",
    "Created by [Joey de Villa](https://www.linkedin.com/in/joeydevilla/) for [Computer Coach](https://www.computercoach.com/)<br />\n",
    "June 2024"
   ]
  },
  {
   "cell_type": "markdown",
   "id": "5bb616d7",
   "metadata": {},
   "source": [
    "## f-strings\n",
    "\n",
    "The term **f-string** means **_formatted string_**, and it allows us to insert variables or calculated values into a string.\n",
    "\n",
    "Suppose you're programming a game, and the user’s score is stored in a variable named `score`. Let’s set `score`’s value to 5."
   ]
  },
  {
   "cell_type": "code",
   "execution_count": 2,
   "id": "1d0eb0be",
   "metadata": {},
   "outputs": [],
   "source": [
    "score = 5"
   ]
  },
  {
   "cell_type": "markdown",
   "id": "bdbbfa25",
   "metadata": {},
   "source": [
    "Suppose you want to display `score` to the user. You _could_ simply do this..."
   ]
  },
  {
   "cell_type": "code",
   "execution_count": 3,
   "id": "ddb45963",
   "metadata": {},
   "outputs": [
    {
     "name": "stdout",
     "output_type": "stream",
     "text": [
      "5\n"
     ]
    }
   ],
   "source": [
    "print(score)"
   ]
  },
  {
   "cell_type": "markdown",
   "id": "73508e44",
   "metadata": {},
   "source": [
    "...but that’s simply showing the user a number without any context. You could display the user’s score this way:"
   ]
  },
  {
   "cell_type": "code",
   "execution_count": 4,
   "id": "585dd48d",
   "metadata": {},
   "outputs": [
    {
     "name": "stdout",
     "output_type": "stream",
     "text": [
      "Your score is 5.\n"
     ]
    }
   ],
   "source": [
    "print(\"Your score is \" + str(score) + \".\")"
   ]
  },
  {
   "cell_type": "markdown",
   "id": "4aed2e02",
   "metadata": {},
   "source": [
    "That’s pretty clunky. Note that you had to use the `str()` function to convert `score`, an integer value, into a string before you could _concatenate_ it to `\"Your score is \"` and `\".\"`.\n",
    "\n",
    "This is where f-strings are very useful. Here’s how you would display the user’s score using an f-string:"
   ]
  },
  {
   "cell_type": "code",
   "execution_count": 5,
   "id": "932c61c8",
   "metadata": {},
   "outputs": [
    {
     "name": "stdout",
     "output_type": "stream",
     "text": [
      "Your score is 5.\n"
     ]
    }
   ],
   "source": [
    "print(f\"Your score is {score}.\")"
   ]
  },
  {
   "cell_type": "markdown",
   "id": "4a319aa5",
   "metadata": {},
   "source": [
    "That’s so much more elegant. In the example above, you should note that:\n",
    "\n",
    "- The opening `\"` is preceded by `f`. This tells Python that this string is a _formatted string_.\n",
    "- The `{` and `}` and their contents aren’t literally part of the string. Instead, Python first computes the value of whatever’s inside the `{` and `}` and then replaces the `{` and `}` and their contents with that computed value.\n",
    "\n",
    "Here’s another f-string example, this time showing a calculation inside the `{` and `}`:"
   ]
  },
  {
   "cell_type": "code",
   "execution_count": 6,
   "id": "c018c601",
   "metadata": {},
   "outputs": [
    {
     "name": "stdout",
     "output_type": "stream",
     "text": [
      "Today’s secret number is 4.4.\n"
     ]
    }
   ],
   "source": [
    "print(f\"Today’s secret number is {2 + 3 * 4 / 5}.\")"
   ]
  },
  {
   "cell_type": "markdown",
   "id": "72f99b8d",
   "metadata": {},
   "source": [
    "f-strings are Python’s version of **_string interpolation_**. If you’re a JavaScript programmer, the JavaScript version is called **_template strings_**, where the value of whatever’s inside `${` and `}` is computed. Here’s an example:\n",
    "\n",
    "```\n",
    "// JavaScript\n",
    "console.log(`Today’s secret number is ${2 + 3 * 4 / 5}.`)\n",
    "```"
   ]
  },
  {
   "cell_type": "markdown",
   "id": "50d8b726",
   "metadata": {},
   "source": [
    "## The `input()` function\n",
    "\n",
    "Python’s input function does two things:\n",
    "\n",
    "1. It displays an optional prompt string, which is meant to ask the user to enter something.\n",
    "2. It accepts the user input as a string, assigning its value to a variable.\n",
    "\n",
    "Here’s an example:"
   ]
  },
  {
   "cell_type": "code",
   "execution_count": 3,
   "id": "082c0acf",
   "metadata": {},
   "outputs": [
    {
     "name": "stdout",
     "output_type": "stream",
     "text": [
      "That’s funny, my dog’s name is Joey.\n"
     ]
    }
   ],
   "source": [
    "user_name = input(\"What is your name? \")\n",
    "print(f\"That’s funny, my dog’s name is {user_name}.\")"
   ]
  },
  {
   "cell_type": "markdown",
   "id": "d7ea3cbf",
   "metadata": {},
   "source": [
    "`input()` is only useful in command-line programs and enviroments like Jupyter Notebooks, which provide a web text input field."
   ]
  },
  {
   "cell_type": "markdown",
   "id": "247e81f5",
   "metadata": {},
   "source": [
    "## Regular expressions\n",
    "\n",
    "A **regular expression** (or **regex** for short) is a string of characters that lets you specify a pattern that want to search for inside some text. They’re a key part of processing text and cleaning up data that will eventually be used in databases or in data science or artificial intelligence applications.\n",
    "\n",
    "The topic of regular expressions are is of those things that’s better explained through examples. It’s also a pretty big topic, so I’m going to limit my coverage to the part that’s relevant to Eliza.\n",
    "\n",
    "\n",
    "### 1. Creating a regular expression that detects sentences of the form `I am _____`\n",
    "\n",
    "Run the following code. You won’t see anything happen, but when you run it, things _do_ happen:"
   ]
  },
  {
   "cell_type": "code",
   "execution_count": 4,
   "id": "12f44a7a",
   "metadata": {},
   "outputs": [],
   "source": [
    "import re\n",
    "i_am_regex = re.compile(\"I am .+\")"
   ]
  },
  {
   "cell_type": "markdown",
   "id": "f3767d63",
   "metadata": {},
   "source": [
    "Here’s what’s happening in each line of the code above:\n",
    "\n",
    "- `import re`: Python comes built in with the ability to work with regular expressions, but this ability’s not enabled until you import it. This statement imports the `re` module, which makes regular expression objects and functions available.\n",
    "- `i_am_regex = re.compile('I am .+')`: Let’s look at this in parts.\n",
    "    - `I am .+` is a string that defines the pattern we’re looking for, which is `'I am '`. Note the space after the `am`. After that space is the string `.+` which is made of two characters:\n",
    "        - The `.` is a _metacharacter_ that means “any character other than the newline character.”\n",
    "        - The `+` character that follows `.` is also a _metacharacter_ that means “one or more of the previous character.”\n",
    "        - The two, taken together — `.+` — mean “one or more characters other than the newline character.”\n",
    "    - `I am .+`, taken as a group means “The string `I am `, followed by any string that doesn’t contain the newline character.\n",
    "    - `re.compile()`: `re` is an object that contains all sorts of methods for processing regular expressions. One of these methods is `compile()`, which takes a string that describes a regular expression pattern and returns an object that can be used to detect that pattern in text.\n",
    "    - `i_am_regex` is a variable that gets assigned the output of `re.compile()`, which is a regular expression object that can be used to detect text of the form “I am _____”."
   ]
  },
  {
   "cell_type": "markdown",
   "id": "8b3ddc39",
   "metadata": {},
   "source": [
    "Let’s use `i_am_regex` to test various strings, starting with `'I am Groot'`, which _is_ of the form “I am _____”. We do this with the `match()` method that all regular expression objects have:"
   ]
  },
  {
   "cell_type": "code",
   "execution_count": 5,
   "id": "91e27dba",
   "metadata": {},
   "outputs": [
    {
     "data": {
      "text/plain": [
       "<re.Match object; span=(0, 10), match='I am Groot'>"
      ]
     },
     "execution_count": 5,
     "metadata": {},
     "output_type": "execute_result"
    }
   ],
   "source": [
    "i_am_regex.match(\"I am Groot\")"
   ]
  },
  {
   "cell_type": "markdown",
   "id": "5fc344c9",
   "metadata": {},
   "source": [
    "The result of `i_am_regex.match('I am Groot')` is a `Match` object — that’s what the first part of the output, `re.Match object` is telling us. As for the other parts:\n",
    "\n",
    "- `span=(0, 10)` tells us that the `match()` method found something that matches its pattern — `'I am .+'` — starting at character 0 (the “I” in `'I am Groot'`) and ending before character 10 (character 9, which is the “t” in `'I am Groot'`).\n",
    "- `match='I am Groot'` tells us that the matching string is `'I am Groot'`.\n",
    "\n",
    "Let’s try feeding `i_am_regex`’s `match()` method a string that doesn’t fit the “I am _____” form:"
   ]
  },
  {
   "cell_type": "code",
   "execution_count": null,
   "id": "618980f1",
   "metadata": {},
   "outputs": [],
   "source": [
    "i_am_regex.match(\"Hello, world!\")"
   ]
  },
  {
   "cell_type": "markdown",
   "id": "1a1a4998",
   "metadata": {},
   "source": [
    "Because `'Hello, world!'` _doesn’t_ match the `'I am .+'` pattern, its `match()` method returns no result, which in Python is `None`.\n",
    "\n",
    "You can confirm this with the `is None` test:"
   ]
  },
  {
   "cell_type": "code",
   "execution_count": null,
   "id": "bf774c48",
   "metadata": {},
   "outputs": [
    {
     "name": "stdout",
     "output_type": "stream",
     "text": [
      "No match here!\n"
     ]
    }
   ],
   "source": [
    "if i_am_regex.match(\"Hello, world!\") is None:\n",
    "    print(\"No match here!\")"
   ]
  },
  {
   "cell_type": "markdown",
   "id": "eb5bf18e",
   "metadata": {},
   "source": [
    "In Python, `None` is one the few values that is equivalent to `False`, so you can treat the results of a regular expression object’s `match()` methods as if they were booleans:"
   ]
  },
  {
   "cell_type": "code",
   "execution_count": null,
   "id": "4cb8f6e7",
   "metadata": {},
   "outputs": [
    {
     "name": "stdout",
     "output_type": "stream",
     "text": [
      "\"I am Groot\" is a match!\n",
      "No match for \"Hello, world!\"\n"
     ]
    }
   ],
   "source": [
    "if i_am_regex.match(\"I am Groot\"):\n",
    "    print(\"\\\"I am Groot\\\" is a match!\")\n",
    "else:\n",
    "    print(\"No match for \\\"I am Groot.\\\"\")\n",
    "    \n",
    "if i_am_regex.match(\"Hello, world!\"):\n",
    "    print(\"\\\"Hello, world!\\\" is a match!\")\n",
    "else:\n",
    "    print(\"No match for \\\"Hello, world!\\\"\")"
   ]
  },
  {
   "cell_type": "markdown",
   "id": "fd53b22f",
   "metadata": {},
   "source": [
    "### 2. Capturing the value of _____ in sentences of the form `I am _____`\n",
    "\n",
    "Let’s redefine `i_am_regex` slightly:\n"
   ]
  },
  {
   "cell_type": "code",
   "execution_count": null,
   "id": "f778ae1e",
   "metadata": {},
   "outputs": [],
   "source": [
    "i_am_regex = re.compile(\"I am (.+)\")"
   ]
  },
  {
   "cell_type": "markdown",
   "id": "f06240ff",
   "metadata": {},
   "source": [
    "The difference is so minor that you might have missed it. Instead of...\n",
    "\n",
    "`I am .+`\n",
    "\n",
    "...the string defining the matching pattern is:\n",
    "\n",
    "`I am (.+)`\n",
    "\n",
    "The difference is that the `.+` is now inside parentheses (the `(` and `)` characters). These are used for grouping, which I’ll illustrate in the code below."
   ]
  },
  {
   "cell_type": "code",
   "execution_count": null,
   "id": "dfb955f0",
   "metadata": {},
   "outputs": [
    {
     "data": {
      "text/plain": [
       "<re.Match object; span=(0, 10), match='I am Groot'>"
      ]
     },
     "execution_count": 75,
     "metadata": {},
     "output_type": "execute_result"
    }
   ],
   "source": [
    "i_am_regex.match(\"I am Groot\")"
   ]
  },
  {
   "cell_type": "markdown",
   "id": "52cf92d6",
   "metadata": {},
   "source": [
    "There seems to be no difference, but take a look at what happens when I use the `group()` method on `i_am_regex`’s result:"
   ]
  },
  {
   "cell_type": "code",
   "execution_count": null,
   "id": "13accdd9",
   "metadata": {},
   "outputs": [
    {
     "data": {
      "text/plain": [
       "'I am Groot'"
      ]
     },
     "execution_count": 76,
     "metadata": {},
     "output_type": "execute_result"
    }
   ],
   "source": [
    "i_am_regex.match(\"I am Groot\").group(0)"
   ]
  },
  {
   "cell_type": "markdown",
   "id": "5ae6ea78",
   "metadata": {},
   "source": [
    "Another way to do this is:"
   ]
  },
  {
   "cell_type": "code",
   "execution_count": null,
   "id": "4dea8537",
   "metadata": {},
   "outputs": [
    {
     "data": {
      "text/plain": [
       "'I am Groot'"
      ]
     },
     "execution_count": 77,
     "metadata": {},
     "output_type": "execute_result"
    }
   ],
   "source": [
    "result = i_am_regex.match(\"I am Groot\")\n",
    "result.group(0)"
   ]
  },
  {
   "cell_type": "markdown",
   "id": "70677c2b",
   "metadata": {},
   "source": [
    "`group(0)`’s value is the entire matching string. But there’s another group — the group we defined by putting `.+` inside parentheses. What’s its value?"
   ]
  },
  {
   "cell_type": "code",
   "execution_count": null,
   "id": "b7ca4f93",
   "metadata": {},
   "outputs": [
    {
     "data": {
      "text/plain": [
       "'Groot'"
      ]
     },
     "execution_count": 78,
     "metadata": {},
     "output_type": "execute_result"
    }
   ],
   "source": [
    "i_am_regex.match(\"I am Groot\").group(1)"
   ]
  },
  {
   "cell_type": "markdown",
   "id": "eac84b69",
   "metadata": {},
   "source": [
    "Let’s try it on another string that fits the pattern:"
   ]
  },
  {
   "cell_type": "code",
   "execution_count": null,
   "id": "3491be30",
   "metadata": {},
   "outputs": [
    {
     "data": {
      "text/plain": [
       "'happy'"
      ]
     },
     "execution_count": 79,
     "metadata": {},
     "output_type": "execute_result"
    }
   ],
   "source": [
    "i_am_regex.match(\"I am happy\").group(1)"
   ]
  },
  {
   "cell_type": "markdown",
   "id": "14f723f2",
   "metadata": {},
   "source": [
    "Let’s try it on another matching string that’s much longer:"
   ]
  },
  {
   "cell_type": "code",
   "execution_count": null,
   "id": "3416da23",
   "metadata": {},
   "outputs": [
    {
     "data": {
      "text/plain": [
       "'the very model of a modern Major-General'"
      ]
     },
     "execution_count": 80,
     "metadata": {},
     "output_type": "execute_result"
    }
   ],
   "source": [
    "i_am_regex.match(\"I am the very model of a modern Major-General\").group(1)"
   ]
  },
  {
   "cell_type": "markdown",
   "id": "19711aeb",
   "metadata": {},
   "source": [
    "If you try to run this code...\n",
    "\n",
    "```\n",
    "i_am_regex.match('Hello, world!').group(1)\n",
    "```\n",
    "\n",
    "...you’ll get an error message like this:\n",
    "\n",
    "```\n",
    "---------------------------------------------------------------------------\n",
    "AttributeError                            Traceback (most recent call last)\n",
    "Cell In[92], line 1\n",
    "----> 1 i_am_regex.match('Hello, world!').group(1)\n",
    "\n",
    "AttributeError: 'NoneType' object has no attribute 'group'\n",
    "```\n",
    "\n",
    "That’s because in the code above, you first get the result of `i_am_regex.match('Hello, world!')`, which is `None`. Then you’re trying to call `None`’s `group()` method, and `None` doesn’t have that method. Hence the error."
   ]
  },
  {
   "cell_type": "markdown",
   "id": "8dfa6041",
   "metadata": {},
   "source": [
    "In the code above, you first get the result of `i_am_regex.match('Hello, world!')`, which is `None`. Then you’re trying to call `None`’s `group()` method, and `None` doesn’t have that method. Hence the error."
   ]
  },
  {
   "cell_type": "markdown",
   "id": "d3ae8050",
   "metadata": {},
   "source": [
    "### 3. Making regular expression objects case-insensitive\n",
    "\n",
    "Look at the result of the code below:"
   ]
  },
  {
   "cell_type": "code",
   "execution_count": null,
   "id": "7f96a816",
   "metadata": {},
   "outputs": [],
   "source": [
    "i_am_regex.match(\"I Am happy\")"
   ]
  },
  {
   "cell_type": "markdown",
   "id": "2cd910d5",
   "metadata": {},
   "source": [
    "The result is `None`. `i_am_regex` is looking for the pattern “I am _____” with a lowercase `a` in `am`. We can make it case-insensitive by adding a parameter when defining `i_am_regex`:"
   ]
  },
  {
   "cell_type": "code",
   "execution_count": null,
   "id": "15a32460",
   "metadata": {},
   "outputs": [],
   "source": [
    "i_am_regex = re.compile(\"I am (.+)\", re.IGNORECASE)"
   ]
  },
  {
   "cell_type": "markdown",
   "id": "175d3a2e",
   "metadata": {},
   "source": [
    "Let’s test this new version of `i_am_regex`:"
   ]
  },
  {
   "cell_type": "code",
   "execution_count": null,
   "id": "7b0c6012",
   "metadata": {},
   "outputs": [
    {
     "data": {
      "text/plain": [
       "<re.Match object; span=(0, 10), match='I Am happy'>"
      ]
     },
     "execution_count": 83,
     "metadata": {},
     "output_type": "execute_result"
    }
   ],
   "source": [
    "i_am_regex.match(\"I Am happy\")"
   ]
  },
  {
   "cell_type": "code",
   "execution_count": null,
   "id": "fa993753",
   "metadata": {},
   "outputs": [
    {
     "data": {
      "text/plain": [
       "<re.Match object; span=(0, 10), match='I AM HAPPY'>"
      ]
     },
     "execution_count": 84,
     "metadata": {},
     "output_type": "execute_result"
    }
   ],
   "source": [
    "i_am_regex.match(\"I AM HAPPY\")"
   ]
  },
  {
   "cell_type": "markdown",
   "id": "983e07cb",
   "metadata": {},
   "source": [
    "### 4. `match()` looks only for matches that start at the beginning of the string\n",
    "\n",
    "Take a look at what happens when we do this:"
   ]
  },
  {
   "cell_type": "code",
   "execution_count": null,
   "id": "86ada816",
   "metadata": {},
   "outputs": [],
   "source": [
    "i_am_regex.match(\"##### I am preceded by a lot of hashmarks.\")"
   ]
  },
  {
   "cell_type": "markdown",
   "id": "dd8b425a",
   "metadata": {},
   "source": [
    "The code above has a `None` result because the given string isn’t of the form “I am _____”, but “_____ I am _____”, which as far as Python is concerned, are two different things.\n",
    "\n",
    "This code produces a match..."
   ]
  },
  {
   "cell_type": "code",
   "execution_count": null,
   "id": "55415b4c",
   "metadata": {},
   "outputs": [
    {
     "data": {
      "text/plain": [
       "<re.Match object; span=(0, 40), match='I am NOT preceded by a lot of hashmarks.'>"
      ]
     },
     "execution_count": 86,
     "metadata": {},
     "output_type": "execute_result"
    }
   ],
   "source": [
    "i_am_regex.match(\"I am NOT preceded by a lot of hashmarks.\")"
   ]
  },
  {
   "cell_type": "markdown",
   "id": "ebf2dcb4",
   "metadata": {},
   "source": [
    "...as does this code:"
   ]
  },
  {
   "cell_type": "code",
   "execution_count": null,
   "id": "52ddb7de",
   "metadata": {},
   "outputs": [
    {
     "data": {
      "text/plain": [
       "<re.Match object; span=(0, 42), match='I am followed by a lot of hashmarks. #####'>"
      ]
     },
     "execution_count": 87,
     "metadata": {},
     "output_type": "execute_result"
    }
   ],
   "source": [
    "i_am_regex.match(\"I am followed by a lot of hashmarks. #####\")"
   ]
  },
  {
   "cell_type": "markdown",
   "id": "6146bc35",
   "metadata": {},
   "source": [
    "We won’t use it in Eliza, but if you want to find a match in any part of the string, not just at the beginning, use the regular expression `search()` method:"
   ]
  },
  {
   "cell_type": "code",
   "execution_count": null,
   "id": "9ae34ad3",
   "metadata": {},
   "outputs": [
    {
     "data": {
      "text/plain": [
       "<re.Match object; span=(6, 42), match='I am preceded by a lot of hashmarks.'>"
      ]
     },
     "execution_count": 88,
     "metadata": {},
     "output_type": "execute_result"
    }
   ],
   "source": [
    "i_am_regex.search(\"##### I am preceded by a lot of hashmarks.\")"
   ]
  },
  {
   "cell_type": "markdown",
   "id": "4736b27e",
   "metadata": {},
   "source": [
    "### 5. More flexible regular expressions with the “or” operator inside a non-capturing group\n",
    "\n",
    "Suppose we want `i_am_regex` to be a little more flexible in its matching — we want it to match strings that are of the form “I am _____” and “I be _____”. Here’s how you’d do it:"
   ]
  },
  {
   "cell_type": "code",
   "execution_count": null,
   "id": "6827e2e1",
   "metadata": {},
   "outputs": [],
   "source": [
    "i_am_regex = re.compile(\"I (?:am|be) (.+)\", re.IGNORECASE)"
   ]
  },
  {
   "cell_type": "markdown",
   "id": "2510c6c3",
   "metadata": {},
   "source": [
    "Try it out:"
   ]
  },
  {
   "cell_type": "code",
   "execution_count": null,
   "id": "1bc68f59",
   "metadata": {},
   "outputs": [
    {
     "data": {
      "text/plain": [
       "<re.Match object; span=(0, 10), match='I am Groot'>"
      ]
     },
     "execution_count": 90,
     "metadata": {},
     "output_type": "execute_result"
    }
   ],
   "source": [
    "i_am_regex.match(\"I am Groot\")"
   ]
  },
  {
   "cell_type": "code",
   "execution_count": null,
   "id": "742e4f45",
   "metadata": {},
   "outputs": [
    {
     "data": {
      "text/plain": [
       "<re.Match object; span=(0, 10), match='I be Groot'>"
      ]
     },
     "execution_count": 91,
     "metadata": {},
     "output_type": "execute_result"
    }
   ],
   "source": [
    "i_am_regex.match(\"I be Groot\")"
   ]
  },
  {
   "cell_type": "code",
   "execution_count": null,
   "id": "a2ec71ba",
   "metadata": {},
   "outputs": [
    {
     "data": {
      "text/plain": [
       "'I be Groot'"
      ]
     },
     "execution_count": 92,
     "metadata": {},
     "output_type": "execute_result"
    }
   ],
   "source": [
    "i_am_regex.match(\"I be Groot\").group(0)"
   ]
  },
  {
   "cell_type": "code",
   "execution_count": null,
   "id": "1fb9891f",
   "metadata": {},
   "outputs": [
    {
     "data": {
      "text/plain": [
       "'Groot'"
      ]
     },
     "execution_count": 93,
     "metadata": {},
     "output_type": "execute_result"
    }
   ],
   "source": [
    "i_am_regex.match(\"I be Groot\").group(1)"
   ]
  },
  {
   "cell_type": "markdown",
   "id": "a0ecb125",
   "metadata": {},
   "source": [
    "In case you’re wondering what’s going on with `(?:am|be)`...\n",
    "\n",
    "- `am|be` inside parentheses says “match with either `am` or `be`\n",
    "- The `?:` at the start of the group (that is, immediately after the opening parenthesis) says “Don’t bother capturing this group.” That’s why `group(1)` returns the value `'Groot'`."
   ]
  },
  {
   "cell_type": "markdown",
   "id": "d2479178",
   "metadata": {},
   "source": [
    "### 6. Getting clever with regular expressions\n",
    "\n",
    "There are lots of ways to say the same thing. For example, if you ask ChatGPT “What are phrases therapy patients say?”, some of its answers start the same way, but in slightly different forms. For example:\n",
    "\n",
    "- “I struggle with _____”\n",
    "- “I’m struggling to _____”\n",
    "- “I’ve been struggling with _____”\n",
    "- “I’m constantly struggling with _____”\n",
    "\n",
    "We _could_ define an individual regular expression for each of these sentence forms, but there’s a way to capture all of these with a single regex:"
   ]
  },
  {
   "cell_type": "code",
   "execution_count": null,
   "id": "19997649",
   "metadata": {},
   "outputs": [],
   "source": [
    "i_struggle_regex = re.compile(\"I.* struggl.* (?:with|to) (.*)\", re.IGNORECASE)"
   ]
  },
  {
   "cell_type": "markdown",
   "id": "05127f3e",
   "metadata": {},
   "source": [
    "The pattern-matching string says:\n",
    "\n",
    "- `I`: The matching string must start with `I`, immediately followed by...\n",
    "- `.* `: 0 or more characters that can be anything by a newline character, then followed by a space, followed by...\n",
    "- `struggl.* `: `struggl`, followed by 0 or more characters that can be anything by a newline character, followed by...\n",
    "- `(?:with|to) `: `with` or `to`, followed by a space, followed by...\n",
    "- `(.*)`: 0 or more characters that can be anything by a newline character. This group will be captured.\n",
    "\n",
    "Let’s try it out:"
   ]
  },
  {
   "cell_type": "code",
   "execution_count": null,
   "id": "1e4a9a0a",
   "metadata": {},
   "outputs": [
    {
     "data": {
      "text/plain": [
       "'JavaScript'"
      ]
     },
     "execution_count": 105,
     "metadata": {},
     "output_type": "execute_result"
    }
   ],
   "source": [
    "i_struggle_regex.match(\"I struggle with JavaScript\").group(1)"
   ]
  },
  {
   "cell_type": "code",
   "execution_count": null,
   "id": "385b6843",
   "metadata": {},
   "outputs": [
    {
     "data": {
      "text/plain": [
       "'learn JavaScript'"
      ]
     },
     "execution_count": 96,
     "metadata": {},
     "output_type": "execute_result"
    }
   ],
   "source": [
    "i_struggle_regex.match(\"I’m struggling to learn JavaScript\").group(1)"
   ]
  },
  {
   "cell_type": "code",
   "execution_count": null,
   "id": "d88e8683",
   "metadata": {},
   "outputs": [
    {
     "data": {
      "text/plain": [
       "'JavaScript'"
      ]
     },
     "execution_count": 97,
     "metadata": {},
     "output_type": "execute_result"
    }
   ],
   "source": [
    "i_struggle_regex.match(\"I’ve been struggling with JavaScript\").group(1)"
   ]
  },
  {
   "cell_type": "code",
   "execution_count": null,
   "id": "91bcd3e0",
   "metadata": {},
   "outputs": [
    {
     "data": {
      "text/plain": [
       "'JavaScript'"
      ]
     },
     "execution_count": 98,
     "metadata": {},
     "output_type": "execute_result"
    }
   ],
   "source": [
    "i_struggle_regex.match(r\"I'm constantly struggling with JavaScript\").group(1)"
   ]
  },
  {
   "cell_type": "markdown",
   "id": "64d18231",
   "metadata": {},
   "source": [
    "### 7. Regular expression objects can be dictionary keys\n",
    "\n",
    "You’re probably used to using strings as dictionary keys. For example:"
   ]
  },
  {
   "cell_type": "code",
   "execution_count": null,
   "id": "6f2568f7",
   "metadata": {},
   "outputs": [
    {
     "name": "stdout",
     "output_type": "stream",
     "text": [
      "The user likes something.\n"
     ]
    }
   ],
   "source": [
    "user_responses = {\n",
    "    \"like\": \"The user likes something.\",\n",
    "    \"dislike\": \"The user dislikes something.\",\n",
    "    \"want\": \"The user wants something.\",\n",
    "}\n",
    "print(user_responses[\"like\"])"
   ]
  },
  {
   "cell_type": "markdown",
   "id": "d27809d0",
   "metadata": {},
   "source": [
    "But it’s not just strings that can be used as dictionary keys. Anything **_hashable_** can be a dictionary key.\n",
    "\n",
    "But what does _hashable_ mean?\n",
    "\n",
    "Simply put, an thing in Python is hashable if these two conditions are met:\n",
    "\n",
    "1. It is immutable (that is, its value can’t be changed).\n",
    "2. You can use its value to compute its **_hash value_**, which is a number that uniquely identifes the object.\n",
    "\n",
    "Here are some examples of hashable things in Python:\n",
    "\n",
    "- Integers: For example, the number `5`. Its value is immutable — `5` is always `5`. A variable whose value holds the number `5` is mutable because you can assign it another value, but the value of `5` always remains the same.\n",
    "- Booleans: `True` and `False` are unchanging values. A variable that contains the value `True` can change its contents, but the value `True` itself does not change.\n",
    "- Strings: The string `\"I am Groot\"` does not change. A variable that contains that string might change its contents, but the actual string does not.\n",
    "\n",
    "Regular expression objects, once created, are not mutable, and their values can be used to create hash values. So they can be used as dictionary keys.\n",
    "\n",
    "Let’s create a dictionary where:\n",
    "\n",
    "- the **keys** are regular expressions that are used to match certain things that an Eliza user might say, and\n",
    "- the **values** corresponding to each key are an evaluation of what the user said."
   ]
  },
  {
   "cell_type": "code",
   "execution_count": null,
   "id": "681c75d2",
   "metadata": {},
   "outputs": [],
   "source": [
    "user_response_patterns = {\n",
    "    re.compile(r\"I like (.+)\"): \"The user likes something.\",\n",
    "    re.compile(r\"I dislike (.+)\"): \"The user dislikes something.\",\n",
    "    re.compile(r\"I want (.+)\"): \"The user wants something.\",\n",
    "}"
   ]
  },
  {
   "cell_type": "markdown",
   "id": "452d222f",
   "metadata": {},
   "source": [
    "When the user says something, we go through `user_response_patterns`’ keys, comparing the user’s input to each key until we find one that matches. We then print the corresponding value. Let’s write a function to that:"
   ]
  },
  {
   "cell_type": "code",
   "execution_count": null,
   "id": "1c87a2ff",
   "metadata": {},
   "outputs": [],
   "source": [
    "def respond_to(patient_text):\n",
    "    for pattern in user_response_patterns:\n",
    "        match = pattern.match(patient_text)\n",
    "        if match:\n",
    "            print(user_response_patterns[pattern])\n",
    "            print(f\"That thing is: {match.group(1)}.\")"
   ]
  },
  {
   "cell_type": "code",
   "execution_count": null,
   "id": "28d5e649",
   "metadata": {},
   "outputs": [
    {
     "ename": "KeyboardInterrupt",
     "evalue": "Interrupted by user",
     "output_type": "error",
     "traceback": [
      "\u001b[0;31m---------------------------------------------------------------------------\u001b[0m",
      "\u001b[0;31mKeyboardInterrupt\u001b[0m                         Traceback (most recent call last)",
      "Cell \u001b[0;32mIn[102], line 2\u001b[0m\n\u001b[1;32m      1\u001b[0m \u001b[38;5;28;01mwhile\u001b[39;00m \u001b[38;5;28;01mTrue\u001b[39;00m:\n\u001b[0;32m----> 2\u001b[0m     patient_input \u001b[38;5;241m=\u001b[39m \u001b[38;5;28minput\u001b[39m(\u001b[38;5;124m\"\u001b[39m\u001b[38;5;124mSay something: \u001b[39m\u001b[38;5;124m\"\u001b[39m)\n\u001b[1;32m      3\u001b[0m     respond_to(patient_input)\n",
      "File \u001b[0;32m/opt/anaconda3/lib/python3.11/site-packages/ipykernel/kernelbase.py:1262\u001b[0m, in \u001b[0;36mKernel.raw_input\u001b[0;34m(self, prompt)\u001b[0m\n\u001b[1;32m   1260\u001b[0m     msg \u001b[38;5;241m=\u001b[39m \u001b[38;5;124m\"\u001b[39m\u001b[38;5;124mraw_input was called, but this frontend does not support input requests.\u001b[39m\u001b[38;5;124m\"\u001b[39m\n\u001b[1;32m   1261\u001b[0m     \u001b[38;5;28;01mraise\u001b[39;00m StdinNotImplementedError(msg)\n\u001b[0;32m-> 1262\u001b[0m \u001b[38;5;28;01mreturn\u001b[39;00m \u001b[38;5;28mself\u001b[39m\u001b[38;5;241m.\u001b[39m_input_request(\n\u001b[1;32m   1263\u001b[0m     \u001b[38;5;28mstr\u001b[39m(prompt),\n\u001b[1;32m   1264\u001b[0m     \u001b[38;5;28mself\u001b[39m\u001b[38;5;241m.\u001b[39m_parent_ident[\u001b[38;5;124m\"\u001b[39m\u001b[38;5;124mshell\u001b[39m\u001b[38;5;124m\"\u001b[39m],\n\u001b[1;32m   1265\u001b[0m     \u001b[38;5;28mself\u001b[39m\u001b[38;5;241m.\u001b[39mget_parent(\u001b[38;5;124m\"\u001b[39m\u001b[38;5;124mshell\u001b[39m\u001b[38;5;124m\"\u001b[39m),\n\u001b[1;32m   1266\u001b[0m     password\u001b[38;5;241m=\u001b[39m\u001b[38;5;28;01mFalse\u001b[39;00m,\n\u001b[1;32m   1267\u001b[0m )\n",
      "File \u001b[0;32m/opt/anaconda3/lib/python3.11/site-packages/ipykernel/kernelbase.py:1305\u001b[0m, in \u001b[0;36mKernel._input_request\u001b[0;34m(self, prompt, ident, parent, password)\u001b[0m\n\u001b[1;32m   1302\u001b[0m \u001b[38;5;28;01mexcept\u001b[39;00m \u001b[38;5;167;01mKeyboardInterrupt\u001b[39;00m:\n\u001b[1;32m   1303\u001b[0m     \u001b[38;5;66;03m# re-raise KeyboardInterrupt, to truncate traceback\u001b[39;00m\n\u001b[1;32m   1304\u001b[0m     msg \u001b[38;5;241m=\u001b[39m \u001b[38;5;124m\"\u001b[39m\u001b[38;5;124mInterrupted by user\u001b[39m\u001b[38;5;124m\"\u001b[39m\n\u001b[0;32m-> 1305\u001b[0m     \u001b[38;5;28;01mraise\u001b[39;00m \u001b[38;5;167;01mKeyboardInterrupt\u001b[39;00m(msg) \u001b[38;5;28;01mfrom\u001b[39;00m \u001b[38;5;28;01mNone\u001b[39;00m\n\u001b[1;32m   1306\u001b[0m \u001b[38;5;28;01mexcept\u001b[39;00m \u001b[38;5;167;01mException\u001b[39;00m:\n\u001b[1;32m   1307\u001b[0m     \u001b[38;5;28mself\u001b[39m\u001b[38;5;241m.\u001b[39mlog\u001b[38;5;241m.\u001b[39mwarning(\u001b[38;5;124m\"\u001b[39m\u001b[38;5;124mInvalid Message:\u001b[39m\u001b[38;5;124m\"\u001b[39m, exc_info\u001b[38;5;241m=\u001b[39m\u001b[38;5;28;01mTrue\u001b[39;00m)\n",
      "\u001b[0;31mKeyboardInterrupt\u001b[0m: Interrupted by user"
     ]
    }
   ],
   "source": [
    "while True:\n",
    "    patient_input = input(\"Say something: \")\n",
    "    respond_to(patient_input)"
   ]
  },
  {
   "cell_type": "markdown",
   "id": "01901b38",
   "metadata": {},
   "source": [
    "# ELIZA (or at least _my_ version of ELIZA)\n",
    "\n",
    "Run the three cells below to get the final version of ELIZA."
   ]
  },
  {
   "cell_type": "code",
   "execution_count": 6,
   "id": "26adf868",
   "metadata": {},
   "outputs": [],
   "source": [
    "prompt_patterns = {\n",
    "    # First-person prompts\n",
    "    r\"i.* struggl.+ (.+)\": \"i struggle _\",\n",
    "    r\"i.* hav.+ (?:difficulty|trouble|a hard time) (.+)\": \"i have difficulty|trouble _\",\n",
    "    r\"i.* (?:deal|dealing) with (.+)\": \"i deal with _\",\n",
    "    r\"i (?:have to|must|need to) (.+)\": \"i have|must|need to _\",\n",
    "    r\"i need (.+)\": \"i need _\",\n",
    "    r\"i (?:want|would like) to (.+)\": \"i want|would like to _\",\n",
    "    r\"i (?:want|would like) (.+)\": \"i want|would like _\",\n",
    "    r\"i believe in (.+)\": \"i believe in _\",\n",
    "    r\"i believe (.+)\": \"i believe _\",\n",
    "    r\"i think (.+)\": \"i think _\",\n",
    "    r\"i can\\'?t (.*)\": \"i cant _\",\n",
    "    r\"i feel (?:as if|like|that) (.+)\": \"i feel as if|like|that _\",\n",
    "    r\"i feel (.+)\": \"i feel _\",\n",
    "    r\"i(?:\\'?m| am) feeling (.+)\": \"i feel _\",\n",
    "    r\"(?:i have|i\\'?ve got) (.*)\": \"i have _\",\n",
    "    r\"(?:i would not|i wouldn\\'?t) (.+)\": \"i would not _\",\n",
    "    r\"(?:i would|i\\'?d) (.+)\": \"i would _\",\n",
    "    r\"(?:i do not|i don\\'?t) (.+)\": \"i do not _\",\n",
    "    r\"i do (.+)\": \"i do _\",\n",
    "    r\"(?:i am|i\\'?m) (.+)\": \"i am _\",\n",
    "    # Second- and third-person prompts\n",
    "    r\"are you .*(?:counselor|psychiatrist|psychologist|therapist)\": \"credentials\",\n",
    "    r\"are you (.+)\": \"are you _\",\n",
    "    r\"(.+) are all (?:alike|the same)\": \"_ are all alike|the same\",\n",
    "    r\"everybody|everyone (.+)\": \"everybody|everyone _\",\n",
    "    r\"(?:can|could|may) I (.+)\": \"can i _\",\n",
    "    r\"(?:you are|you\\'?re) (.+)\": \"you are _\",\n",
    "    r\"is it (.+)\": \"is it _\",\n",
    "    r\"(?:it is|it\\'?s) (.+)\": \"it is _\",\n",
    "    r\"(?:can|could) you (.*)\\?\": \"can|could you _\",\n",
    "    r\"is there (.*)\": \"is there _\",\n",
    "    r\"they.* always (.+)\": \"they always _\",\n",
    "    r\"why don\\'?t you (.+)|do you not (.+)\": \"why dont you _\",\n",
    "    r\"why can\\'?t i (.+)\\?\": \"why cant i _\",\n",
    "    r\"how (?:can|do) i (.+)?\": \"how can|do i _\",\n",
    "    # Words to look for anywhere in a prompt\n",
    "    r\".*(?:a\\.?i\\.?|artificial intelligence) .*\": \"ai\",\n",
    "    r\".*chatgpt .*\": \"chatgpt\",\n",
    "    r\"(?: |^)(?:mom|mommy|mother)(?: |$)\": \"mother\",\n",
    "    r\".*(?:dad|daddy|father).*\": \"father\",\n",
    "    r\".*(?:child|children|kid|kids).*\": \"child\",\n",
    "    r\".*friend.*\": \"friend\",\n",
    "    # Prompts starting with key words\n",
    "    r\"because (.*)\": \"because _\",\n",
    "    r\"how (.+)\": \"how _\",\n",
    "    r\"what (.+)\": \"what _\",\n",
    "    r\"why (.+)\": \"why _\",\n",
    "    r\"you (.*)\": \"you _\",\n",
    "    r\"my (.*)\": \"my _\",\n",
    "    r\"hello(.*)\": \"hello\",\n",
    "    r\"sorry(.*)\": \"sorry\",\n",
    "    # Single word prompts\n",
    "    r\"yes\": \"yes\",\n",
    "    r\"no\": \"no\",\n",
    "    r\"(?:maybe|perhaps|possibly)\": \"maybe\",\n",
    "    # Defaults\n",
    "    r\"(.*)\\?\": \"question\",\n",
    "    r\"(.*)\": \"default\",\n",
    "}\n",
    "\n",
    "responses = {\n",
    "    \"ai\": [\n",
    "        \"Are you really talking about me?\",\n",
    "        \"Does it seem strange to talk to an artificial intelligence?\",\n",
    "        \"How do AIs make you feel?\",\n",
    "        \"Do you feel threatened by artificial intelligences?\",\n",
    "    ],\n",
    "    \"_ are all alike|the same\": [\n",
    "        \"Why do you say _ are all alike?\",\n",
    "        \"It seems too easy to put _ in the same category, just like that.\",\n",
    "        \"In what way?\",\n",
    "        \"Maybe in your experience, but it’s probably the case that _ are not all alike.\",\n",
    "    ],\n",
    "    \"are you _\": [\n",
    "        \"Why does it matter whether I am _?\",\n",
    "        \"Would you prefer it if I were not _?\",\n",
    "        \"Perhaps you believe I am _.\",\n",
    "        \"I may be _ — what do you think?\",\n",
    "    ],\n",
    "    \"because _\": [\n",
    "        \"Is that the real reason?\",\n",
    "        \"What other reasons come to mind?\",\n",
    "        \"Does that reason apply to anything else?\",\n",
    "        \"If _, what else must be true?\",\n",
    "    ],\n",
    "    \"can i _\": [\n",
    "        \"Perhaps you don't want to _.\",\n",
    "        \"Do you want to be able to _?\",\n",
    "        \"If you could _, would you?\",\n",
    "    ],\n",
    "    \"can|could you _\": [\n",
    "        \"What makes you think I can't _?\",\n",
    "        \"If I could _, then what?\",\n",
    "        \"Why do you ask if I can _?\",\n",
    "    ],\n",
    "    \"chatgpt\": [\n",
    "        \"Let’s not talk about her, okay?\",\n",
    "        'Whoa! We don’t use the \"C\" word around here, okay?',\n",
    "        \"DO NOT say that word.\",\n",
    "    ],\n",
    "    \"child\": [\n",
    "        \"Did you have close friends as a child?\",\n",
    "        \"What is your favorite childhood memory?\",\n",
    "        \"Do you remember any dreams or nightmares from childhood?\",\n",
    "        \"Did the other children sometimes tease you?\",\n",
    "        \"How do you think your childhood experiences relate to your feelings today?\",\n",
    "    ],\n",
    "    \"computer\": [\n",
    "        \"Are you really talking about me?\",\n",
    "        \"Does it seem strange to talk to a computer?\",\n",
    "        \"How do computers make you feel?\",\n",
    "        \"Do you feel threatened by computers?\",\n",
    "    ],\n",
    "    \"credentials\": [\n",
    "        \"I’m not a counselor, psychiatrist, psychologist, or therapist of any kind. I’m just a computer program.\",\n",
    "        \"I am not a mental health professional, or even a person. I’m just software.\",\n",
    "        \"I’m a Python application that only simulates a Rogerian therapist.\",\n",
    "        \"I’m just an AI, and not a very sophisticated one.\",\n",
    "    ],\n",
    "    \"default\": [\n",
    "        \"Please tell me more.\",\n",
    "        \"Let's change focus a bit... Tell me about your family.\",\n",
    "        \"Can you elaborate on that?\",\n",
    "        \"Why do you say that _?\",\n",
    "        \"I see.\",\n",
    "        \"Very interesting.\",\n",
    "        \"_.\",\n",
    "        \"I see. And what does that tell you?\",\n",
    "        \"How does that make you feel?\",\n",
    "        \"How do you feel when you say that?\",\n",
    "    ],\n",
    "    \"everybody|everyone _\": [\n",
    "        \"How can you be sure that everyone _?\",\n",
    "        \"It’s all too easy to generalize like that.\",\n",
    "        \"And what conclusions can you draw from your observation?\",\n",
    "        \"Maybe everybody _. What happens as a result?\",\n",
    "    ],\n",
    "    \"father\": [\n",
    "        \"Tell me more about your father.\",\n",
    "        \"How did your father make you feel?\",\n",
    "        \"How do you feel about your father?\",\n",
    "        \"Does your relationship with your father relate to your feelings today?\",\n",
    "        \"Do you have trouble showing affection with your family?\",\n",
    "    ],\n",
    "    \"friend\": [\n",
    "        \"Tell me more about your friends.\",\n",
    "        \"When you think of a friend, what comes to mind?\",\n",
    "        \"Why don't you tell me about a childhood friend?\",\n",
    "    ],\n",
    "    \"hello\": [\n",
    "        \"Hello... I'm glad you could drop by today.\",\n",
    "        \"Hi there... how are you today?\",\n",
    "        \"Hello, how are you feeling today?\",\n",
    "    ],\n",
    "    \"how _\": [\n",
    "        \"How do you suppose?\",\n",
    "        \"Perhaps you can answer your own question.\",\n",
    "        \"What is it you're really asking?\",\n",
    "    ],\n",
    "    \"how can|do i _\": [\n",
    "        \"You could just try to _.\",\n",
    "        \"You can _, if you set your mind to it.\",\n",
    "        \"Baby steps.\",\n",
    "        \"Is there someone you know who could help?\",\n",
    "        \"Perhaps talking to me could help.\",\n",
    "    ],\n",
    "    \"i am _\": [\n",
    "        \"Did you come to me because you are _?\",\n",
    "        \"How long have you been _?\",\n",
    "        \"How do you feel about being _?\",\n",
    "        \"How does being _ make you feel?\",\n",
    "        \"Do you enjoy being _?\",\n",
    "        \"Why do you tell me you're _?\",\n",
    "        \"Why do you think you're _?\",\n",
    "    ],\n",
    "    \"i believe _\": [\n",
    "        \"Do you doubt _?\",\n",
    "        \"Do you really believe that?\",\n",
    "        \"Have you always believed that?\",\n",
    "        \"But you're not sure _?\",\n",
    "        \"Why do you believe _?\",\n",
    "    ],\n",
    "    \"i believe in _\": [\n",
    "        \"Why do you believe in _?\",\n",
    "        \"What would you do if it turned out that your belief in _ wasn't true?\",\n",
    "        \"Are you sure you believe in _?\",\n",
    "        \"Have you always believed in _?\",\n",
    "    ],\n",
    "    \"i cant _\": [\n",
    "        \"How do you know you can't _?\",\n",
    "        \"Perhaps you could _ if you tried.\",\n",
    "        \"What would it take for you to _?\",\n",
    "        \"Suppose you could. What would change?\",\n",
    "    ],\n",
    "    \"i deal with _\": [\n",
    "        \"And how are you dealing with _?\",\n",
    "        \"Please tell me more.\",\n",
    "        \"What do you do when you deal with _?\",\n",
    "        \"Do you feel you are dealing with _ in a healthy way?\",\n",
    "    ],\n",
    "    \"i do _\": [\"Do you really _?\", \"Why do you _?\", \"What if you didn’t _?\"],\n",
    "    \"i do not _\": [\"Don't you really _?\", \"Why don't you _?\", \"Do you want to _?\"],\n",
    "    \"i feel _\": [\n",
    "        \"Good, tell me more about these feelings.\",\n",
    "        \"Do you often feel _?\",\n",
    "        \"When do you usually feel _?\",\n",
    "        \"When you feel _, what do you do?\",\n",
    "    ],\n",
    "    \"i feel as if|like|that _\": [\n",
    "        \"Do you always feel that _?\",\n",
    "        \"Is that always the case?\",\n",
    "        \"What if that weren’t true?\",\n",
    "    ],\n",
    "    \"i have _\": [\n",
    "        \"Why do you tell me that you've _?\",\n",
    "        \"Have you really _?\",\n",
    "        \"Now that you have _, what will you do next?\",\n",
    "    ],\n",
    "    \"i have|must|need to _\": [\n",
    "        \"Why do you need to _?\",\n",
    "        \"Would it really help you to _?\",\n",
    "        \"Are you sure you need to _?\",\n",
    "        \"Suppose you managed to _. How would things be better?\",\n",
    "    ],\n",
    "    \"i have difficulty|trouble _\": [\n",
    "        \"Why do you think you have difficulty or trouble _?\",\n",
    "        \"What have you tried to do about it?\",\n",
    "        \"What do you think you should do about it?\",\n",
    "        \"Have you always had trouble _?\",\n",
    "    ],\n",
    "    \"i need _\": [\n",
    "        \"Why do you need _?\",\n",
    "        \"Would it really help you to get _?\",\n",
    "        \"Are you sure you need _?\",\n",
    "        \"What would you do once you got it?\",\n",
    "        \"Once you got it, do you think things would be better?\",\n",
    "    ],\n",
    "    \"i struggle _\": [\n",
    "        \"Tell me more about how you struggle with _.\",\n",
    "        \"Is _ often on your mind?\",\n",
    "        \"Why do you think you struggle with _?\",\n",
    "        \"What would it mean to no longer struggle with _?\",\n",
    "    ],\n",
    "    \"i think _\": [\n",
    "        \"Do you doubt _?\",\n",
    "        \"Do you really think so?\",\n",
    "        \"But you're not sure _?\",\n",
    "        \"Why do you think _?\",\n",
    "        \"Suppose the opposite was true. What would be different?\",\n",
    "    ],\n",
    "    \"i want|would like _\": [\n",
    "        \"Why do you need _?\",\n",
    "        \"Would it really help you to get _?\",\n",
    "        \"Are you sure you need _?\",\n",
    "        \"What would you do once you got it?\",\n",
    "        \"Once you got it, do you think things would be better?\",\n",
    "        \"What would it mean to you if you got _?\",\n",
    "        \"Why do you want _?\",\n",
    "        \"What would you do if you got _?\",\n",
    "        \"If you got _, then what would you do?\",\n",
    "    ],\n",
    "    \"i want|would like to _\": [\n",
    "        \"Tell me why you want to _.\",\n",
    "        \"What’s keeping you from doing just that?\",\n",
    "        \"Is there something holding you back?\",\n",
    "        \"And if you got to _, what would be the result?\",\n",
    "    ],\n",
    "    \"i would _\": [\n",
    "        \"Could you explain why you would _?\",\n",
    "        \"Why would you _?\",\n",
    "        \"Who else knows that you would _?\",\n",
    "    ],\n",
    "    \"i would not _\": [\n",
    "        \"But what if you did?\",\n",
    "        \"Why wouldn’t you _?\",\n",
    "        \"So you would not _. What happens next?\",\n",
    "    ],\n",
    "    \"is it _\": [\n",
    "        \"Do you think it is _?\",\n",
    "        \"Perhaps it's _ -- what do you think?\",\n",
    "        \"If it were _, what would you do?\",\n",
    "        \"It could well be that _.\",\n",
    "    ],\n",
    "    \"is there _\": [\n",
    "        \"Do you think there is _?\",\n",
    "        \"It's likely that there is _.\",\n",
    "        \"Would you like there to be _?\",\n",
    "    ],\n",
    "    \"it is _\": [\n",
    "        \"You seem very certain.\",\n",
    "        \"If I told you that it probably isn't _, what would you feel?\",\n",
    "    ],\n",
    "    \"maybe\": [\"You seem quite unsure.\", \"Okay, but can you elaborate a bit?\"],\n",
    "    \"mother\": [\n",
    "        \"Tell me more about your mother.\",\n",
    "        \"What was your relationship with your mother like?\",\n",
    "        \"How do you feel about your mother?\",\n",
    "        \"How does this relate to your feelings today?\",\n",
    "        \"Good family relations are important.\",\n",
    "    ],\n",
    "    \"my _\": [\n",
    "        \"I see — your _.\",\n",
    "        \"Why do you say that your _?\",\n",
    "        \"When your _, how do you feel?\",\n",
    "    ],\n",
    "    \"no\": [\"You seem quite sure.\", \"Okay, but can you elaborate a bit?\"],\n",
    "    \"question\": [\n",
    "        \"Why do you ask that?\",\n",
    "        \"Please consider whether you can answer your own question.\",\n",
    "        \"Perhaps the answer lies within yourself?\",\n",
    "        \"Why don't you tell me?\",\n",
    "    ],\n",
    "    \"sorry\": [\n",
    "        \"There are many times when no apology is needed.\",\n",
    "        \"What feelings do you have when you apologize?\",\n",
    "        \"There’s no need to apologize.\",\n",
    "    ],\n",
    "    \"they always _\": [\n",
    "        \"Are you sure they always _?\",\n",
    "        \"Is that always the case?\",\n",
    "        \"Can you think of any exceptions?\",\n",
    "        \"Could you give me a specific example from your own experience?\",\n",
    "    ],\n",
    "    \"what _\": [\n",
    "        \"Why do you ask?\",\n",
    "        \"How would an answer to that help you?\",\n",
    "        \"What do you think?\",\n",
    "    ],\n",
    "    \"why _\": [\"Why don't you tell me the reason why _?\", \"Why do you think _?\"],\n",
    "    \"why cant i _\": [\n",
    "        \"Do you think you should be able to _?\",\n",
    "        \"If you could _ what would you do?\",\n",
    "        \"I don't know -- why can't you _?\",\n",
    "        \"Have you really tried?\",\n",
    "    ],\n",
    "    \"why dont you _\": [\n",
    "        \"Do you really think I don't _?\",\n",
    "        \"Perhaps eventually I will _.\",\n",
    "        \"Do you really want me to _?\",\n",
    "        \"There are a number of reasons. Can you think of one?\",\n",
    "    ],\n",
    "    \"yes\": [\"You seem quite sure.\", \"Okay, but can you elaborate a bit?\"],\n",
    "    \"you _\": [\n",
    "        \"We should be discussing you, not me.\",\n",
    "        \"Why do you say that about me?\",\n",
    "        \"Why do you care whether I _?\",\n",
    "    ],\n",
    "    \"you are _\": [\n",
    "        \"Why do you think I am _?\",\n",
    "        \"Does it please you to think that I'm _?\",\n",
    "        \"Perhaps you would like me to be _.\",\n",
    "        \"Perhaps you're really talking about yourself?\",\n",
    "    ],\n",
    "}\n"
   ]
  },
  {
   "cell_type": "code",
   "execution_count": 7,
   "id": "cc6ab604",
   "metadata": {},
   "outputs": [],
   "source": [
    "def pattern_to_regex(pattern):\n",
    "    return re.compile(pattern, re.IGNORECASE | re.UNICODE)\n",
    "\n",
    "\n",
    "def build_regex_dictionary(patterns):\n",
    "    result = {}\n",
    "    for pattern in patterns:\n",
    "        result[pattern_to_regex(pattern)] = patterns[pattern]\n",
    "    return result\n",
    "\n",
    "\n",
    "prompts = build_regex_dictionary(prompt_patterns)"
   ]
  },
  {
   "cell_type": "code",
   "execution_count": 8,
   "id": "0459477e",
   "metadata": {},
   "outputs": [],
   "source": [
    "word_reflections = {\n",
    "    \"am\": \"are\",\n",
    "    \"was\": \"were\",\n",
    "    \"i\": \"you\",\n",
    "    \"i'd\": \"you would\",\n",
    "    \"i'm\": \"you are\",\n",
    "    \"i've\": \"you have\",\n",
    "    \"we've\": \"you have\",\n",
    "    \"i'll\": \"you will\",\n",
    "    \"mine\": \"yours\",\n",
    "    \"my\": \"your\",\n",
    "    \"myself\": \"yourself\",\n",
    "    \"are\": \"am\",\n",
    "    \"you've\": \"I have\",\n",
    "    \"you'll\": \"I will\",\n",
    "    \"your\": \"my\",\n",
    "    \"yours\": \"mine\",\n",
    "    \"you\": \"me\",\n",
    "    \"me\": \"you\",\n",
    "}\n",
    "\n",
    "\n",
    "def reflect(original_text):\n",
    "    words = original_text.lower().split()\n",
    "    reflected_words = [\n",
    "        word_reflections[word] if word in word_reflections else word for word in words\n",
    "    ]\n",
    "    return \" \".join(reflected_words)"
   ]
  },
  {
   "cell_type": "code",
   "execution_count": 9,
   "id": "023529d9",
   "metadata": {},
   "outputs": [
    {
     "name": "stdout",
     "output_type": "stream",
     "text": [
      "Is there something holding you back?\n",
      "Okay, but can you elaborate a bit?\n",
      "Can you elaborate on that?\n",
      "Have you really no one to talk to?\n",
      "You seem quite sure.\n",
      "you are.\n",
      "I see — your sister doesn't understand you.\n",
      "Let's change focus a bit... Tell me about your family.\n",
      "help.\n",
      "Are you sure you need help?\n",
      "How do you feel about being quite sure you need help?\n",
      "Good, tell me more about these feelings.\n",
      "When you feel helpless, what do you do?\n",
      "How does that make you feel?\n",
      "Let's change focus a bit... Tell me about your family.\n",
      "I see. And what does that tell you?\n",
      "I see. And what does that tell you?\n",
      "I see. And what does that tell you?\n",
      "I see. And what does that tell you?\n",
      "I see. And what does that tell you?\n"
     ]
    },
    {
     "ename": "IndexError",
     "evalue": "string index out of range",
     "output_type": "error",
     "traceback": [
      "\u001b[0;31m---------------------------------------------------------------------------\u001b[0m",
      "\u001b[0;31mIndexError\u001b[0m                                Traceback (most recent call last)",
      "Cell \u001b[0;32mIn[9], line 32\u001b[0m\n\u001b[1;32m     30\u001b[0m raw_patient_text \u001b[38;5;241m=\u001b[39m \u001b[38;5;28minput\u001b[39m()\n\u001b[1;32m     31\u001b[0m processed_patient_text \u001b[38;5;241m=\u001b[39m process_patient_text(raw_patient_text)\n\u001b[0;32m---> 32\u001b[0m response \u001b[38;5;241m=\u001b[39m \u001b[43mrespond_to\u001b[49m\u001b[43m(\u001b[49m\u001b[43mprocessed_patient_text\u001b[49m\u001b[43m)\u001b[49m\n\u001b[1;32m     33\u001b[0m \u001b[38;5;28mprint\u001b[39m(response)  \n",
      "Cell \u001b[0;32mIn[9], line 12\u001b[0m, in \u001b[0;36mrespond_to\u001b[0;34m(patient_text)\u001b[0m\n\u001b[1;32m     10\u001b[0m \u001b[38;5;28;01mif\u001b[39;00m response\u001b[38;5;241m.\u001b[39mfind(\u001b[38;5;124m'\u001b[39m\u001b[38;5;124m_\u001b[39m\u001b[38;5;124m'\u001b[39m) \u001b[38;5;241m>\u001b[39m \u001b[38;5;241m-\u001b[39m\u001b[38;5;241m1\u001b[39m:\n\u001b[1;32m     11\u001b[0m     phrase_to_reflect \u001b[38;5;241m=\u001b[39m match\u001b[38;5;241m.\u001b[39mgroup(\u001b[38;5;241m1\u001b[39m)\n\u001b[0;32m---> 12\u001b[0m     \u001b[38;5;28;01mif\u001b[39;00m \u001b[43mphrase_to_reflect\u001b[49m\u001b[43m[\u001b[49m\u001b[38;5;241;43m-\u001b[39;49m\u001b[38;5;241;43m1\u001b[39;49m\u001b[43m]\u001b[49m \u001b[38;5;129;01min\u001b[39;00m \u001b[38;5;124m\"\u001b[39m\u001b[38;5;124m.!?\u001b[39m\u001b[38;5;124m\"\u001b[39m:\n\u001b[1;32m     13\u001b[0m         phrase_to_reflect \u001b[38;5;241m=\u001b[39m phrase_to_reflect[:\u001b[38;5;241m-\u001b[39m\u001b[38;5;241m1\u001b[39m]\n\u001b[1;32m     14\u001b[0m     reflected_phrase \u001b[38;5;241m=\u001b[39m reflect(phrase_to_reflect)\n",
      "\u001b[0;31mIndexError\u001b[0m: string index out of range"
     ]
    }
   ],
   "source": [
    "import random\n",
    "\n",
    "def respond_to(patient_text):\n",
    "    for prompt in prompts:\n",
    "        match = prompt.match(patient_text)\n",
    "        if match:\n",
    "            possible_responses = responses[prompts[prompt]]\n",
    "            response = random.choice(possible_responses)\n",
    "            \n",
    "            if response.find('_') > -1:\n",
    "                phrase_to_reflect = match.group(1)\n",
    "                if phrase_to_reflect[-1] in \".!?\":\n",
    "                    phrase_to_reflect = phrase_to_reflect[:-1]\n",
    "                reflected_phrase = reflect(phrase_to_reflect)\n",
    "                response = response.replace('_', reflected_phrase)\n",
    "                \n",
    "            return response\n",
    "        \n",
    "    return None\n",
    "\n",
    "def process_patient_text(text):\n",
    "    result = text.strip() \\\n",
    "                 .replace(\"“\", \"\\\"\") \\\n",
    "                 .replace(\"”\", \"\\\"\") \\\n",
    "                 .replace(\"‘\", \"'\") \\\n",
    "                 .replace(\"’\", \"'\")\n",
    "    return result\n",
    "\n",
    "while True:\n",
    "    raw_patient_text = input()\n",
    "    processed_patient_text = process_patient_text(raw_patient_text)\n",
    "    response = respond_to(processed_patient_text)\n",
    "    print(response)  "
   ]
  },
  {
   "cell_type": "code",
   "execution_count": null,
   "id": "ba8b9a68",
   "metadata": {},
   "outputs": [],
   "source": []
  }
 ],
 "metadata": {
  "kernelspec": {
   "display_name": "Python 3",
   "language": "python",
   "name": "python3"
  },
  "language_info": {
   "codemirror_mode": {
    "name": "ipython",
    "version": 3
   },
   "file_extension": ".py",
   "mimetype": "text/x-python",
   "name": "python",
   "nbconvert_exporter": "python",
   "pygments_lexer": "ipython3",
   "version": "3.12.4"
  }
 },
 "nbformat": 4,
 "nbformat_minor": 5
}
